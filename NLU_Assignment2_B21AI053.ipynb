{
  "nbformat": 4,
  "nbformat_minor": 0,
  "metadata": {
    "colab": {
      "provenance": [],
      "gpuType": "T4"
    },
    "kernelspec": {
      "name": "python3",
      "display_name": "Python 3"
    },
    "language_info": {
      "name": "python"
    },
    "accelerator": "GPU"
  },
  "cells": [
    {
      "cell_type": "markdown",
      "source": [
        "## Initial Setup"
      ],
      "metadata": {
        "id": "fUzQ_LJi2q5D"
      }
    },
    {
      "cell_type": "code",
      "execution_count": 1,
      "metadata": {
        "id": "fwLyaJ9Lr8Ed"
      },
      "outputs": [],
      "source": [
        "#import necessary libraries\n",
        "import nltk\n",
        "import string\n",
        "import pandas as pd\n",
        "import numpy as np\n",
        "import torch\n",
        "import torch.nn as nn\n",
        "import torch.optim as optim\n",
        "from nltk.tokenize import word_tokenize"
      ]
    },
    {
      "cell_type": "code",
      "source": [
        "!python -m spacy download en_core_web_md\n",
        "nltk.download('punkt')"
      ],
      "metadata": {
        "id": "aHQzj4zrwjDA"
      },
      "execution_count": null,
      "outputs": []
    },
    {
      "cell_type": "code",
      "source": [
        "# Read the text file into a DataFrame\n",
        "df = pd.read_csv('/content/DRUG-AE (copy).txt', sep='|', header=None, names=['PubMed-ID', 'Sentence', 'Adverse-Effect', 'Begin_Offset_AE', 'End_Offset_AE', 'Drug', 'Begin_Offset_Drug', 'End_Offset_Drug'])\n",
        "df"
      ],
      "metadata": {
        "colab": {
          "base_uri": "https://localhost:8080/",
          "height": 423
        },
        "id": "vR9YGoxmtGby",
        "outputId": "0a9b50d1-e252-48f3-b104-259dc91788dc"
      },
      "execution_count": 3,
      "outputs": [
        {
          "output_type": "execute_result",
          "data": {
            "text/plain": [
              "      PubMed-ID                                           Sentence  \\\n",
              "0      10030778      Intravenous azithromycin-induced ototoxicity.   \n",
              "1      10048291  Immobilization, while Paget's bone disease was...   \n",
              "2      10048291  Unaccountable severe hypercalcemia in a patien...   \n",
              "3      10082597  METHODS: We report two cases of pseudoporphyri...   \n",
              "4      10082597  METHODS: We report two cases of pseudoporphyri...   \n",
              "...         ...                                                ...   \n",
              "6816     998323  Lithium treatment was terminated in 1975 becau...   \n",
              "6817     998323  Lithium treatment was terminated in 1975 becau...   \n",
              "6818    9988365  Eosinophilia caused by clozapine was observed ...   \n",
              "6819    9988365  Eosinophilia has been encountered from 0.2 to ...   \n",
              "6820    9988365  Successful challenge with clozapine in a histo...   \n",
              "\n",
              "                 Adverse-Effect  Begin_Offset_AE  End_Offset_AE  \\\n",
              "0                   ototoxicity               43             54   \n",
              "1     increased calcium-release              960            985   \n",
              "2                 hypercalcemia               31             44   \n",
              "3               pseudoporphyria              620            635   \n",
              "4               pseudoporphyria              620            635   \n",
              "...                         ...              ...            ...   \n",
              "6816       lithium intoxication              531            551   \n",
              "6817       lithium intoxication              531            551   \n",
              "6818               Eosinophilia              795            807   \n",
              "6819               Eosinophilia               76             88   \n",
              "6820               eosinophilia               61             73   \n",
              "\n",
              "                    Drug  Begin_Offset_Drug  End_Offset_Drug  \n",
              "0           azithromycin                 22               34  \n",
              "1     dihydrotachysterol                908              926  \n",
              "2     dihydrotachysterol                 94              112  \n",
              "3               naproxen                646              654  \n",
              "4              oxaprozin                659              668  \n",
              "...                  ...                ...              ...  \n",
              "6816             Lithium                479              486  \n",
              "6817             lithium                531              538  \n",
              "6818           clozapine                818              827  \n",
              "6819           clozapine                131              140  \n",
              "6820           clozapine                 35               44  \n",
              "\n",
              "[6821 rows x 8 columns]"
            ],
            "text/html": [
              "\n",
              "  <div id=\"df-77310035-7774-4ae7-bce6-bfda655d8234\" class=\"colab-df-container\">\n",
              "    <div>\n",
              "<style scoped>\n",
              "    .dataframe tbody tr th:only-of-type {\n",
              "        vertical-align: middle;\n",
              "    }\n",
              "\n",
              "    .dataframe tbody tr th {\n",
              "        vertical-align: top;\n",
              "    }\n",
              "\n",
              "    .dataframe thead th {\n",
              "        text-align: right;\n",
              "    }\n",
              "</style>\n",
              "<table border=\"1\" class=\"dataframe\">\n",
              "  <thead>\n",
              "    <tr style=\"text-align: right;\">\n",
              "      <th></th>\n",
              "      <th>PubMed-ID</th>\n",
              "      <th>Sentence</th>\n",
              "      <th>Adverse-Effect</th>\n",
              "      <th>Begin_Offset_AE</th>\n",
              "      <th>End_Offset_AE</th>\n",
              "      <th>Drug</th>\n",
              "      <th>Begin_Offset_Drug</th>\n",
              "      <th>End_Offset_Drug</th>\n",
              "    </tr>\n",
              "  </thead>\n",
              "  <tbody>\n",
              "    <tr>\n",
              "      <th>0</th>\n",
              "      <td>10030778</td>\n",
              "      <td>Intravenous azithromycin-induced ototoxicity.</td>\n",
              "      <td>ototoxicity</td>\n",
              "      <td>43</td>\n",
              "      <td>54</td>\n",
              "      <td>azithromycin</td>\n",
              "      <td>22</td>\n",
              "      <td>34</td>\n",
              "    </tr>\n",
              "    <tr>\n",
              "      <th>1</th>\n",
              "      <td>10048291</td>\n",
              "      <td>Immobilization, while Paget's bone disease was...</td>\n",
              "      <td>increased calcium-release</td>\n",
              "      <td>960</td>\n",
              "      <td>985</td>\n",
              "      <td>dihydrotachysterol</td>\n",
              "      <td>908</td>\n",
              "      <td>926</td>\n",
              "    </tr>\n",
              "    <tr>\n",
              "      <th>2</th>\n",
              "      <td>10048291</td>\n",
              "      <td>Unaccountable severe hypercalcemia in a patien...</td>\n",
              "      <td>hypercalcemia</td>\n",
              "      <td>31</td>\n",
              "      <td>44</td>\n",
              "      <td>dihydrotachysterol</td>\n",
              "      <td>94</td>\n",
              "      <td>112</td>\n",
              "    </tr>\n",
              "    <tr>\n",
              "      <th>3</th>\n",
              "      <td>10082597</td>\n",
              "      <td>METHODS: We report two cases of pseudoporphyri...</td>\n",
              "      <td>pseudoporphyria</td>\n",
              "      <td>620</td>\n",
              "      <td>635</td>\n",
              "      <td>naproxen</td>\n",
              "      <td>646</td>\n",
              "      <td>654</td>\n",
              "    </tr>\n",
              "    <tr>\n",
              "      <th>4</th>\n",
              "      <td>10082597</td>\n",
              "      <td>METHODS: We report two cases of pseudoporphyri...</td>\n",
              "      <td>pseudoporphyria</td>\n",
              "      <td>620</td>\n",
              "      <td>635</td>\n",
              "      <td>oxaprozin</td>\n",
              "      <td>659</td>\n",
              "      <td>668</td>\n",
              "    </tr>\n",
              "    <tr>\n",
              "      <th>...</th>\n",
              "      <td>...</td>\n",
              "      <td>...</td>\n",
              "      <td>...</td>\n",
              "      <td>...</td>\n",
              "      <td>...</td>\n",
              "      <td>...</td>\n",
              "      <td>...</td>\n",
              "      <td>...</td>\n",
              "    </tr>\n",
              "    <tr>\n",
              "      <th>6816</th>\n",
              "      <td>998323</td>\n",
              "      <td>Lithium treatment was terminated in 1975 becau...</td>\n",
              "      <td>lithium intoxication</td>\n",
              "      <td>531</td>\n",
              "      <td>551</td>\n",
              "      <td>Lithium</td>\n",
              "      <td>479</td>\n",
              "      <td>486</td>\n",
              "    </tr>\n",
              "    <tr>\n",
              "      <th>6817</th>\n",
              "      <td>998323</td>\n",
              "      <td>Lithium treatment was terminated in 1975 becau...</td>\n",
              "      <td>lithium intoxication</td>\n",
              "      <td>531</td>\n",
              "      <td>551</td>\n",
              "      <td>lithium</td>\n",
              "      <td>531</td>\n",
              "      <td>538</td>\n",
              "    </tr>\n",
              "    <tr>\n",
              "      <th>6818</th>\n",
              "      <td>9988365</td>\n",
              "      <td>Eosinophilia caused by clozapine was observed ...</td>\n",
              "      <td>Eosinophilia</td>\n",
              "      <td>795</td>\n",
              "      <td>807</td>\n",
              "      <td>clozapine</td>\n",
              "      <td>818</td>\n",
              "      <td>827</td>\n",
              "    </tr>\n",
              "    <tr>\n",
              "      <th>6819</th>\n",
              "      <td>9988365</td>\n",
              "      <td>Eosinophilia has been encountered from 0.2 to ...</td>\n",
              "      <td>Eosinophilia</td>\n",
              "      <td>76</td>\n",
              "      <td>88</td>\n",
              "      <td>clozapine</td>\n",
              "      <td>131</td>\n",
              "      <td>140</td>\n",
              "    </tr>\n",
              "    <tr>\n",
              "      <th>6820</th>\n",
              "      <td>9988365</td>\n",
              "      <td>Successful challenge with clozapine in a histo...</td>\n",
              "      <td>eosinophilia</td>\n",
              "      <td>61</td>\n",
              "      <td>73</td>\n",
              "      <td>clozapine</td>\n",
              "      <td>35</td>\n",
              "      <td>44</td>\n",
              "    </tr>\n",
              "  </tbody>\n",
              "</table>\n",
              "<p>6821 rows × 8 columns</p>\n",
              "</div>\n",
              "    <div class=\"colab-df-buttons\">\n",
              "\n",
              "  <div class=\"colab-df-container\">\n",
              "    <button class=\"colab-df-convert\" onclick=\"convertToInteractive('df-77310035-7774-4ae7-bce6-bfda655d8234')\"\n",
              "            title=\"Convert this dataframe to an interactive table.\"\n",
              "            style=\"display:none;\">\n",
              "\n",
              "  <svg xmlns=\"http://www.w3.org/2000/svg\" height=\"24px\" viewBox=\"0 -960 960 960\">\n",
              "    <path d=\"M120-120v-720h720v720H120Zm60-500h600v-160H180v160Zm220 220h160v-160H400v160Zm0 220h160v-160H400v160ZM180-400h160v-160H180v160Zm440 0h160v-160H620v160ZM180-180h160v-160H180v160Zm440 0h160v-160H620v160Z\"/>\n",
              "  </svg>\n",
              "    </button>\n",
              "\n",
              "  <style>\n",
              "    .colab-df-container {\n",
              "      display:flex;\n",
              "      gap: 12px;\n",
              "    }\n",
              "\n",
              "    .colab-df-convert {\n",
              "      background-color: #E8F0FE;\n",
              "      border: none;\n",
              "      border-radius: 50%;\n",
              "      cursor: pointer;\n",
              "      display: none;\n",
              "      fill: #1967D2;\n",
              "      height: 32px;\n",
              "      padding: 0 0 0 0;\n",
              "      width: 32px;\n",
              "    }\n",
              "\n",
              "    .colab-df-convert:hover {\n",
              "      background-color: #E2EBFA;\n",
              "      box-shadow: 0px 1px 2px rgba(60, 64, 67, 0.3), 0px 1px 3px 1px rgba(60, 64, 67, 0.15);\n",
              "      fill: #174EA6;\n",
              "    }\n",
              "\n",
              "    .colab-df-buttons div {\n",
              "      margin-bottom: 4px;\n",
              "    }\n",
              "\n",
              "    [theme=dark] .colab-df-convert {\n",
              "      background-color: #3B4455;\n",
              "      fill: #D2E3FC;\n",
              "    }\n",
              "\n",
              "    [theme=dark] .colab-df-convert:hover {\n",
              "      background-color: #434B5C;\n",
              "      box-shadow: 0px 1px 3px 1px rgba(0, 0, 0, 0.15);\n",
              "      filter: drop-shadow(0px 1px 2px rgba(0, 0, 0, 0.3));\n",
              "      fill: #FFFFFF;\n",
              "    }\n",
              "  </style>\n",
              "\n",
              "    <script>\n",
              "      const buttonEl =\n",
              "        document.querySelector('#df-77310035-7774-4ae7-bce6-bfda655d8234 button.colab-df-convert');\n",
              "      buttonEl.style.display =\n",
              "        google.colab.kernel.accessAllowed ? 'block' : 'none';\n",
              "\n",
              "      async function convertToInteractive(key) {\n",
              "        const element = document.querySelector('#df-77310035-7774-4ae7-bce6-bfda655d8234');\n",
              "        const dataTable =\n",
              "          await google.colab.kernel.invokeFunction('convertToInteractive',\n",
              "                                                    [key], {});\n",
              "        if (!dataTable) return;\n",
              "\n",
              "        const docLinkHtml = 'Like what you see? Visit the ' +\n",
              "          '<a target=\"_blank\" href=https://colab.research.google.com/notebooks/data_table.ipynb>data table notebook</a>'\n",
              "          + ' to learn more about interactive tables.';\n",
              "        element.innerHTML = '';\n",
              "        dataTable['output_type'] = 'display_data';\n",
              "        await google.colab.output.renderOutput(dataTable, element);\n",
              "        const docLink = document.createElement('div');\n",
              "        docLink.innerHTML = docLinkHtml;\n",
              "        element.appendChild(docLink);\n",
              "      }\n",
              "    </script>\n",
              "  </div>\n",
              "\n",
              "\n",
              "<div id=\"df-b7fd7f9d-2456-428f-b99b-a2688ffec211\">\n",
              "  <button class=\"colab-df-quickchart\" onclick=\"quickchart('df-b7fd7f9d-2456-428f-b99b-a2688ffec211')\"\n",
              "            title=\"Suggest charts\"\n",
              "            style=\"display:none;\">\n",
              "\n",
              "<svg xmlns=\"http://www.w3.org/2000/svg\" height=\"24px\"viewBox=\"0 0 24 24\"\n",
              "     width=\"24px\">\n",
              "    <g>\n",
              "        <path d=\"M19 3H5c-1.1 0-2 .9-2 2v14c0 1.1.9 2 2 2h14c1.1 0 2-.9 2-2V5c0-1.1-.9-2-2-2zM9 17H7v-7h2v7zm4 0h-2V7h2v10zm4 0h-2v-4h2v4z\"/>\n",
              "    </g>\n",
              "</svg>\n",
              "  </button>\n",
              "\n",
              "<style>\n",
              "  .colab-df-quickchart {\n",
              "      --bg-color: #E8F0FE;\n",
              "      --fill-color: #1967D2;\n",
              "      --hover-bg-color: #E2EBFA;\n",
              "      --hover-fill-color: #174EA6;\n",
              "      --disabled-fill-color: #AAA;\n",
              "      --disabled-bg-color: #DDD;\n",
              "  }\n",
              "\n",
              "  [theme=dark] .colab-df-quickchart {\n",
              "      --bg-color: #3B4455;\n",
              "      --fill-color: #D2E3FC;\n",
              "      --hover-bg-color: #434B5C;\n",
              "      --hover-fill-color: #FFFFFF;\n",
              "      --disabled-bg-color: #3B4455;\n",
              "      --disabled-fill-color: #666;\n",
              "  }\n",
              "\n",
              "  .colab-df-quickchart {\n",
              "    background-color: var(--bg-color);\n",
              "    border: none;\n",
              "    border-radius: 50%;\n",
              "    cursor: pointer;\n",
              "    display: none;\n",
              "    fill: var(--fill-color);\n",
              "    height: 32px;\n",
              "    padding: 0;\n",
              "    width: 32px;\n",
              "  }\n",
              "\n",
              "  .colab-df-quickchart:hover {\n",
              "    background-color: var(--hover-bg-color);\n",
              "    box-shadow: 0 1px 2px rgba(60, 64, 67, 0.3), 0 1px 3px 1px rgba(60, 64, 67, 0.15);\n",
              "    fill: var(--button-hover-fill-color);\n",
              "  }\n",
              "\n",
              "  .colab-df-quickchart-complete:disabled,\n",
              "  .colab-df-quickchart-complete:disabled:hover {\n",
              "    background-color: var(--disabled-bg-color);\n",
              "    fill: var(--disabled-fill-color);\n",
              "    box-shadow: none;\n",
              "  }\n",
              "\n",
              "  .colab-df-spinner {\n",
              "    border: 2px solid var(--fill-color);\n",
              "    border-color: transparent;\n",
              "    border-bottom-color: var(--fill-color);\n",
              "    animation:\n",
              "      spin 1s steps(1) infinite;\n",
              "  }\n",
              "\n",
              "  @keyframes spin {\n",
              "    0% {\n",
              "      border-color: transparent;\n",
              "      border-bottom-color: var(--fill-color);\n",
              "      border-left-color: var(--fill-color);\n",
              "    }\n",
              "    20% {\n",
              "      border-color: transparent;\n",
              "      border-left-color: var(--fill-color);\n",
              "      border-top-color: var(--fill-color);\n",
              "    }\n",
              "    30% {\n",
              "      border-color: transparent;\n",
              "      border-left-color: var(--fill-color);\n",
              "      border-top-color: var(--fill-color);\n",
              "      border-right-color: var(--fill-color);\n",
              "    }\n",
              "    40% {\n",
              "      border-color: transparent;\n",
              "      border-right-color: var(--fill-color);\n",
              "      border-top-color: var(--fill-color);\n",
              "    }\n",
              "    60% {\n",
              "      border-color: transparent;\n",
              "      border-right-color: var(--fill-color);\n",
              "    }\n",
              "    80% {\n",
              "      border-color: transparent;\n",
              "      border-right-color: var(--fill-color);\n",
              "      border-bottom-color: var(--fill-color);\n",
              "    }\n",
              "    90% {\n",
              "      border-color: transparent;\n",
              "      border-bottom-color: var(--fill-color);\n",
              "    }\n",
              "  }\n",
              "</style>\n",
              "\n",
              "  <script>\n",
              "    async function quickchart(key) {\n",
              "      const quickchartButtonEl =\n",
              "        document.querySelector('#' + key + ' button');\n",
              "      quickchartButtonEl.disabled = true;  // To prevent multiple clicks.\n",
              "      quickchartButtonEl.classList.add('colab-df-spinner');\n",
              "      try {\n",
              "        const charts = await google.colab.kernel.invokeFunction(\n",
              "            'suggestCharts', [key], {});\n",
              "      } catch (error) {\n",
              "        console.error('Error during call to suggestCharts:', error);\n",
              "      }\n",
              "      quickchartButtonEl.classList.remove('colab-df-spinner');\n",
              "      quickchartButtonEl.classList.add('colab-df-quickchart-complete');\n",
              "    }\n",
              "    (() => {\n",
              "      let quickchartButtonEl =\n",
              "        document.querySelector('#df-b7fd7f9d-2456-428f-b99b-a2688ffec211 button');\n",
              "      quickchartButtonEl.style.display =\n",
              "        google.colab.kernel.accessAllowed ? 'block' : 'none';\n",
              "    })();\n",
              "  </script>\n",
              "</div>\n",
              "\n",
              "  <div id=\"id_d8e29b64-db47-4722-9e2f-1625096fec0c\">\n",
              "    <style>\n",
              "      .colab-df-generate {\n",
              "        background-color: #E8F0FE;\n",
              "        border: none;\n",
              "        border-radius: 50%;\n",
              "        cursor: pointer;\n",
              "        display: none;\n",
              "        fill: #1967D2;\n",
              "        height: 32px;\n",
              "        padding: 0 0 0 0;\n",
              "        width: 32px;\n",
              "      }\n",
              "\n",
              "      .colab-df-generate:hover {\n",
              "        background-color: #E2EBFA;\n",
              "        box-shadow: 0px 1px 2px rgba(60, 64, 67, 0.3), 0px 1px 3px 1px rgba(60, 64, 67, 0.15);\n",
              "        fill: #174EA6;\n",
              "      }\n",
              "\n",
              "      [theme=dark] .colab-df-generate {\n",
              "        background-color: #3B4455;\n",
              "        fill: #D2E3FC;\n",
              "      }\n",
              "\n",
              "      [theme=dark] .colab-df-generate:hover {\n",
              "        background-color: #434B5C;\n",
              "        box-shadow: 0px 1px 3px 1px rgba(0, 0, 0, 0.15);\n",
              "        filter: drop-shadow(0px 1px 2px rgba(0, 0, 0, 0.3));\n",
              "        fill: #FFFFFF;\n",
              "      }\n",
              "    </style>\n",
              "    <button class=\"colab-df-generate\" onclick=\"generateWithVariable('df')\"\n",
              "            title=\"Generate code using this dataframe.\"\n",
              "            style=\"display:none;\">\n",
              "\n",
              "  <svg xmlns=\"http://www.w3.org/2000/svg\" height=\"24px\"viewBox=\"0 0 24 24\"\n",
              "       width=\"24px\">\n",
              "    <path d=\"M7,19H8.4L18.45,9,17,7.55,7,17.6ZM5,21V16.75L18.45,3.32a2,2,0,0,1,2.83,0l1.4,1.43a1.91,1.91,0,0,1,.58,1.4,1.91,1.91,0,0,1-.58,1.4L9.25,21ZM18.45,9,17,7.55Zm-12,3A5.31,5.31,0,0,0,4.9,8.1,5.31,5.31,0,0,0,1,6.5,5.31,5.31,0,0,0,4.9,4.9,5.31,5.31,0,0,0,6.5,1,5.31,5.31,0,0,0,8.1,4.9,5.31,5.31,0,0,0,12,6.5,5.46,5.46,0,0,0,6.5,12Z\"/>\n",
              "  </svg>\n",
              "    </button>\n",
              "    <script>\n",
              "      (() => {\n",
              "      const buttonEl =\n",
              "        document.querySelector('#id_d8e29b64-db47-4722-9e2f-1625096fec0c button.colab-df-generate');\n",
              "      buttonEl.style.display =\n",
              "        google.colab.kernel.accessAllowed ? 'block' : 'none';\n",
              "\n",
              "      buttonEl.onclick = () => {\n",
              "        google.colab.notebook.generateWithVariable('df');\n",
              "      }\n",
              "      })();\n",
              "    </script>\n",
              "  </div>\n",
              "\n",
              "    </div>\n",
              "  </div>\n"
            ],
            "application/vnd.google.colaboratory.intrinsic+json": {
              "type": "dataframe",
              "variable_name": "df",
              "summary": "{\n  \"name\": \"df\",\n  \"rows\": 6821,\n  \"fields\": [\n    {\n      \"column\": \"PubMed-ID\",\n      \"properties\": {\n        \"dtype\": \"number\",\n        \"std\": 5658471,\n        \"min\": 18795,\n        \"max\": 20465622,\n        \"num_unique_values\": 1644,\n        \"samples\": [\n          17473493,\n          3612639,\n          8996514\n        ],\n        \"semantic_type\": \"\",\n        \"description\": \"\"\n      }\n    },\n    {\n      \"column\": \"Sentence\",\n      \"properties\": {\n        \"dtype\": \"string\",\n        \"num_unique_values\": 4271,\n        \"samples\": [\n          \"While on a maximal dose of phenylephrine she developed prominent positive U waves, which disappeared with the cessation of the drug.\",\n          \"We report three patients, all of whom had preexisting diabetic dyslipidemia, who showed a profound reduction in plasma HDL cholesterol and apolipoprotein AI levels soon after the initiation of rosiglitazone therapy.\",\n          \"In 2 of the 3 cases the patients were also taking lithium carbonate and beta-blockers, both of which could have contributed to the incontinence.\"\n        ],\n        \"semantic_type\": \"\",\n        \"description\": \"\"\n      }\n    },\n    {\n      \"column\": \"Adverse-Effect\",\n      \"properties\": {\n        \"dtype\": \"category\",\n        \"num_unique_values\": 3341,\n        \"samples\": [\n          \"erythematous papular eruption\",\n          \"an increase in antihuman herpesvirus-6 immunoglobulin G titer\",\n          \"Fulminant hepatitis\"\n        ],\n        \"semantic_type\": \"\",\n        \"description\": \"\"\n      }\n    },\n    {\n      \"column\": \"Begin_Offset_AE\",\n      \"properties\": {\n        \"dtype\": \"number\",\n        \"std\": 419,\n        \"min\": 7,\n        \"max\": 2651,\n        \"num_unique_values\": 1366,\n        \"samples\": [\n          1111,\n          591,\n          1372\n        ],\n        \"semantic_type\": \"\",\n        \"description\": \"\"\n      }\n    },\n    {\n      \"column\": \"End_Offset_AE\",\n      \"properties\": {\n        \"dtype\": \"number\",\n        \"std\": 418,\n        \"min\": 13,\n        \"max\": 2668,\n        \"num_unique_values\": 1357,\n        \"samples\": [\n          41,\n          712,\n          896\n        ],\n        \"semantic_type\": \"\",\n        \"description\": \"\"\n      }\n    },\n    {\n      \"column\": \"Drug\",\n      \"properties\": {\n        \"dtype\": \"category\",\n        \"num_unique_values\": 1319,\n        \"samples\": [\n          \"Cialis\",\n          \"auranofin\",\n          \"triamcinolone acetate\"\n        ],\n        \"semantic_type\": \"\",\n        \"description\": \"\"\n      }\n    },\n    {\n      \"column\": \"Begin_Offset_Drug\",\n      \"properties\": {\n        \"dtype\": \"number\",\n        \"std\": 410,\n        \"min\": 8,\n        \"max\": 2695,\n        \"num_unique_values\": 1293,\n        \"samples\": [\n          30,\n          747,\n          679\n        ],\n        \"semantic_type\": \"\",\n        \"description\": \"\"\n      }\n    },\n    {\n      \"column\": \"End_Offset_Drug\",\n      \"properties\": {\n        \"dtype\": \"number\",\n        \"std\": 409,\n        \"min\": 12,\n        \"max\": 2705,\n        \"num_unique_values\": 1286,\n        \"samples\": [\n          1762,\n          509,\n          951\n        ],\n        \"semantic_type\": \"\",\n        \"description\": \"\"\n      }\n    }\n  ]\n}"
            }
          },
          "metadata": {},
          "execution_count": 3
        }
      ]
    },
    {
      "cell_type": "code",
      "source": [
        "df.info()"
      ],
      "metadata": {
        "id": "is-B4dYztqhu",
        "outputId": "d7ca976e-9963-4e9d-b540-69065612d918",
        "colab": {
          "base_uri": "https://localhost:8080/"
        }
      },
      "execution_count": 4,
      "outputs": [
        {
          "output_type": "stream",
          "name": "stdout",
          "text": [
            "<class 'pandas.core.frame.DataFrame'>\n",
            "RangeIndex: 6821 entries, 0 to 6820\n",
            "Data columns (total 8 columns):\n",
            " #   Column             Non-Null Count  Dtype \n",
            "---  ------             --------------  ----- \n",
            " 0   PubMed-ID          6821 non-null   int64 \n",
            " 1   Sentence           6821 non-null   object\n",
            " 2   Adverse-Effect     6821 non-null   object\n",
            " 3   Begin_Offset_AE    6821 non-null   int64 \n",
            " 4   End_Offset_AE      6821 non-null   int64 \n",
            " 5   Drug               6821 non-null   object\n",
            " 6   Begin_Offset_Drug  6821 non-null   int64 \n",
            " 7   End_Offset_Drug    6821 non-null   int64 \n",
            "dtypes: int64(5), object(3)\n",
            "memory usage: 426.4+ KB\n"
          ]
        }
      ]
    },
    {
      "cell_type": "markdown",
      "source": [
        "## Data Preprocessing"
      ],
      "metadata": {
        "id": "HHBA4iHl0Hqb"
      }
    },
    {
      "cell_type": "code",
      "source": [
        "from nltk.corpus import stopwords\n",
        "from nltk.tokenize import word_tokenize\n",
        "from nltk.stem import WordNetLemmatizer\n",
        "\n",
        "# Define a function to clean the text\n",
        "def clean_text(text):\n",
        "    # Remove punctuation marks\n",
        "    text = text.replace('-', ' ')\n",
        "    text = text.translate(str.maketrans(\"\", \"\", string.punctuation))\n",
        "\n",
        "    text = text.replace('-', ' ')\n",
        "    # Convert all capital letters to lowercase\n",
        "    text = text.lower()\n",
        "\n",
        "    # Tokenize the text\n",
        "    tokens = word_tokenize(text)\n",
        "    return tokens"
      ],
      "metadata": {
        "id": "SKj0kks6oZnU"
      },
      "execution_count": 5,
      "outputs": []
    },
    {
      "cell_type": "code",
      "source": [
        "#Process the sentences and get corresponding tags for each word in the sentence\n",
        "processed_sentence = []\n",
        "tags = []\n",
        "for i in range(len(df)):\n",
        "  ae = clean_text(df['Adverse-Effect'][i])\n",
        "  s = clean_text(df['Sentence'][i])\n",
        "  d = clean_text(df['Drug'][i])\n",
        "  tagged_ae = []\n",
        "\n",
        "  found_first = False\n",
        "  for word in s:\n",
        "      if word in ae:\n",
        "          if not found_first:\n",
        "              tagged_ae.append('B-AE')\n",
        "              found_first = True\n",
        "          else:\n",
        "              tagged_ae.append('I-AE')\n",
        "      else:\n",
        "          tagged_ae.append('O')\n",
        "\n",
        "  found_first1 = False\n",
        "  for i in range(len(s)):\n",
        "      word = s[i]\n",
        "      if word in d:\n",
        "          if not found_first1:\n",
        "              tagged_ae[i] = \"B-Drug\"\n",
        "              found_first1 = True\n",
        "          else:\n",
        "              tagged_ae[i] = \"I-Drug\"\n",
        "  processed_sentence.append(s)\n",
        "  tags.append(tagged_ae)\n",
        "\n",
        "df['Processed'] = processed_sentence\n",
        "df['Tags'] = tags"
      ],
      "metadata": {
        "id": "wG_V-njKpkRG"
      },
      "execution_count": 6,
      "outputs": []
    },
    {
      "cell_type": "code",
      "source": [
        "label_encoding_dict = {\n",
        "    'O': 0,\n",
        "    'B-AE': 1,\n",
        "    'I-AE': 2,\n",
        "    'B-Drug': 3,\n",
        "    'I-Drug': 4\n",
        "}\n",
        "\n",
        "encoded_tags = []\n",
        "for i in range(len(df)):\n",
        "  et = []\n",
        "  for tag in df['Tags'][i]:\n",
        "    label = label_encoding_dict[tag]\n",
        "    et.append(label)\n",
        "  encoded_tags.append(et)"
      ],
      "metadata": {
        "id": "GxvNqnee91Bl"
      },
      "execution_count": 7,
      "outputs": []
    },
    {
      "cell_type": "markdown",
      "source": [
        "##SpaCy Embeddings"
      ],
      "metadata": {
        "id": "Yulxw1Qf1Fif"
      }
    },
    {
      "cell_type": "code",
      "source": [
        "import spacy\n",
        "# Load spaCy embeddings\n",
        "nlp = spacy.load(\"en_core_web_md\")\n",
        "\n",
        "vector_embeddings = []\n",
        "for sentence in df['Processed']:\n",
        "    sentence_vectors = []\n",
        "    for word in sentence:\n",
        "        word_vector = nlp.vocab[word].vector\n",
        "        sentence_vectors.append(word_vector)\n",
        "    vector_embeddings.append((sentence_vectors))"
      ],
      "metadata": {
        "id": "o7RaefJywOg8"
      },
      "execution_count": 8,
      "outputs": []
    },
    {
      "cell_type": "markdown",
      "source": [
        "### BiLSTM Model"
      ],
      "metadata": {
        "id": "lb4iXeXF10Re"
      }
    },
    {
      "cell_type": "code",
      "source": [
        "import torch.nn as nn\n",
        "# Define BiLSTM model\n",
        "class BiLSTM(nn.Module):\n",
        "    def __init__(self, input_dim, hidden_dim, output_dim):\n",
        "        super(BiLSTM, self).__init__()\n",
        "        self.lstm = nn.LSTM(input_dim, hidden_dim, bidirectional=True)\n",
        "        self.fc = nn.Linear(hidden_dim*2, output_dim)  # *2 for bidirectional LSTM\n",
        "\n",
        "    def forward(self, x):\n",
        "        lstm_out, _ = self.lstm(x.unsqueeze(1))\n",
        "        out = self.fc(lstm_out.view(len(x), -1))  # Get the last output of the sequence\n",
        "        return torch.sigmoid(out).float()"
      ],
      "metadata": {
        "id": "sFZydqY0iZQn"
      },
      "execution_count": 16,
      "outputs": []
    },
    {
      "cell_type": "code",
      "source": [
        "from torch.utils.data import Dataset, DataLoader\n",
        "class CustomDataset(Dataset):\n",
        "    def __init__(self, X_embeddings, y_actual):\n",
        "        self.X_embeddings = X_embeddings\n",
        "        self.y_actual = y_actual\n",
        "\n",
        "    def __len__(self):\n",
        "        return len(self.X_embeddings)\n",
        "\n",
        "    def __getitem__(self, idx):\n",
        "        x = torch.tensor(self.X_embeddings[idx]).float()\n",
        "        y = torch.tensor(self.y_actual[idx]).long()\n",
        "        return x, y"
      ],
      "metadata": {
        "id": "rfR_2ziMkTK-"
      },
      "execution_count": 11,
      "outputs": []
    },
    {
      "cell_type": "code",
      "source": [
        "def train_model(model, loss_function, optimizer, num_epochs, training_data, testing_data):\n",
        "  train_losses = []\n",
        "  test_losses = []\n",
        "  for epoch in range(num_epochs):\n",
        "      training_loss = 0\n",
        "      model.train()\n",
        "      for X, Y in training_data:\n",
        "          output_tags = model(X.to(device))\n",
        "          loss = loss_function(output_tags, Y.to(device))\n",
        "          optimizer.zero_grad()\n",
        "          loss.backward()\n",
        "          optimizer.step()\n",
        "          training_loss += loss.item()\n",
        "      train_losses.append(training_loss)\n",
        "\n",
        "      model.eval()\n",
        "      with torch.no_grad():\n",
        "        testing_loss = 0\n",
        "        for x_test, y_test in testing_data:\n",
        "          outputs = model(x_test.to(device))\n",
        "          test_loss = loss_function(outputs, y_test.to(device))\n",
        "          testing_loss += test_loss.item()\n",
        "        test_losses.append(testing_loss)\n",
        "      if (epoch+1) % 2 == 0:\n",
        "          print(f'Epoch [{epoch+1}/{num_epochs}], Train Loss: {loss.item():.4f}')\n",
        "          print(f'Epoch [{epoch+1}/{num_epochs}], Test Loss: {test_loss:.4f}')\n",
        "          print(\"\\n\")\n",
        "  return train_losses, test_losses"
      ],
      "metadata": {
        "id": "O0GzU0kg0oAt"
      },
      "execution_count": 12,
      "outputs": []
    },
    {
      "cell_type": "code",
      "source": [
        "#input = torch.randn(batch_size, seq_length, input_size) for batch_first=True\n",
        "'''\n",
        "batch size is batch size\n",
        "seq_length is say number of words in a sentence\n",
        "input size is the length of embedding of each word\n",
        "'''"
      ],
      "metadata": {
        "id": "oB6IszIO765m"
      },
      "execution_count": null,
      "outputs": []
    },
    {
      "cell_type": "markdown",
      "source": [
        "### Training the Model"
      ],
      "metadata": {
        "id": "xynRvm2W14-4"
      }
    },
    {
      "cell_type": "code",
      "source": [
        "device = torch.device('cuda:0' if torch.cuda.is_available() else 'cpu')\n",
        "training_data = CustomDataset(vector_embeddings[:5465], encoded_tags[:5465])\n",
        "testing_data = CustomDataset(vector_embeddings[5465:], encoded_tags[5465:])\n",
        "\n",
        "# Initialize model, loss function, and optimizer\n",
        "input_dim = 300\n",
        "hidden_dim = 256   # Number of units in the LSTM layer\n",
        "output_dim = 5  # Output dimensionality\n",
        "\n",
        "model = BiLSTM(input_dim, hidden_dim, output_dim).to(device)\n",
        "\n",
        "loss_function = nn.CrossEntropyLoss()\n",
        "optimizer = optim.Adam(model.parameters(), lr=0.0001)\n",
        "num_epochs = 20\n",
        "\n",
        "train_losses, test_losses = train_model(model, loss_function, optimizer, num_epochs, training_data, testing_data)"
      ],
      "metadata": {
        "colab": {
          "base_uri": "https://localhost:8080/"
        },
        "id": "8iZf8OylmZcO",
        "outputId": "3cb7f9f8-891d-4672-baac-d97d77d8dbdf"
      },
      "execution_count": 17,
      "outputs": [
        {
          "output_type": "stream",
          "name": "stdout",
          "text": [
            "Epoch [2/20], Train Loss: 0.9293\n",
            "Epoch [2/20], Test Loss: 0.9839\n",
            "\n",
            "\n",
            "Epoch [4/20], Train Loss: 0.9138\n",
            "Epoch [4/20], Test Loss: 1.0027\n",
            "\n",
            "\n",
            "Epoch [6/20], Train Loss: 0.9065\n",
            "Epoch [6/20], Test Loss: 0.9996\n",
            "\n",
            "\n",
            "Epoch [8/20], Train Loss: 0.9057\n",
            "Epoch [8/20], Test Loss: 0.9884\n",
            "\n",
            "\n",
            "Epoch [10/20], Train Loss: 0.9052\n",
            "Epoch [10/20], Test Loss: 0.9951\n",
            "\n",
            "\n",
            "Epoch [12/20], Train Loss: 0.9052\n",
            "Epoch [12/20], Test Loss: 0.9616\n",
            "\n",
            "\n",
            "Epoch [14/20], Train Loss: 0.9054\n",
            "Epoch [14/20], Test Loss: 0.9706\n",
            "\n",
            "\n",
            "Epoch [16/20], Train Loss: 0.9050\n",
            "Epoch [16/20], Test Loss: 0.9325\n",
            "\n",
            "\n",
            "Epoch [18/20], Train Loss: 0.9051\n",
            "Epoch [18/20], Test Loss: 0.9752\n",
            "\n",
            "\n",
            "Epoch [20/20], Train Loss: 0.9050\n",
            "Epoch [20/20], Test Loss: 0.9639\n",
            "\n",
            "\n"
          ]
        }
      ]
    },
    {
      "cell_type": "markdown",
      "source": [
        "### Loss and Metrics"
      ],
      "metadata": {
        "id": "eKxl-lTZ18-t"
      }
    },
    {
      "cell_type": "code",
      "source": [
        "import matplotlib.pyplot as plt\n",
        "num_epochs=20\n",
        "plt.plot(range(1, num_epochs+ 1), [(x/len(training_data)) for x in train_losses], label='Train Loss')\n",
        "plt.plot(range(1, num_epochs + 1), [(x/len(testing_data)) for x in test_losses], label='Test Loss')\n",
        "plt.title('Loss vs Epochs for SpaCy Embeddings - BiLSTM')\n",
        "plt.xlabel('Epochs')\n",
        "plt.ylabel('CrossEntropyLoss')\n",
        "plt.legend()\n",
        "plt.show()"
      ],
      "metadata": {
        "colab": {
          "base_uri": "https://localhost:8080/",
          "height": 472
        },
        "id": "nBDzP5gtyvA7",
        "outputId": "c75c4174-4cac-4dba-c537-bfd09c62c71c"
      },
      "execution_count": 18,
      "outputs": [
        {
          "output_type": "display_data",
          "data": {
            "text/plain": [
              "<Figure size 640x480 with 1 Axes>"
            ],
            "image/png": "[encoded data removed]"
          },
          "metadata": {}
        }
      ]
    },
    {
      "cell_type": "code",
      "source": [
        "def post_process(predictions, label_encoding_dict):\n",
        "    # Initialize an empty list to store the predicted labels\n",
        "    predicted_labels = []\n",
        "\n",
        "    # Iterate over each row in the predictions tensor\n",
        "    for row in predictions:\n",
        "        # Find the index of the maximum value in the row\n",
        "        max_index = row.argmax().item()\n",
        "\n",
        "        # Map the index to the corresponding label using the label_encoding_dict\n",
        "        predicted_label = next(key for key, value in label_encoding_dict.items() if value == max_index)\n",
        "\n",
        "        # Append the predicted label to the list\n",
        "        predicted_labels.append(predicted_label)\n",
        "    return predicted_labels\n",
        "\n",
        "\n",
        "def calc_accuracy(ground_truth, predicted_labels):\n",
        "  correct = 0\n",
        "  for i in range(len(ground_truth)):\n",
        "    if(ground_truth[i] == predicted_labels[i]):\n",
        "      correct += 1\n",
        "  return (correct/len(ground_truth))*100"
      ],
      "metadata": {
        "id": "ssTMQMjA5zUb"
      },
      "execution_count": 26,
      "outputs": []
    },
    {
      "cell_type": "code",
      "source": [
        "from sklearn.metrics import accuracy_score, precision_score, recall_score, f1_score, roc_auc_score\n",
        "\n",
        "def get_metrics(model, testing_data):\n",
        "  labels = ['O','B-AE','I-AE','B-Drug','I-Drug']\n",
        "\n",
        "  y_pred=[]\n",
        "  y_true=[]\n",
        "  for vector_embedding, encoded_tag in testing_data:\n",
        "          with torch.no_grad():\n",
        "              vector_embedding=vector_embedding.to(device)\n",
        "              encoded_tag=encoded_tag.to(device)\n",
        "              logits = model(vector_embedding)\n",
        "              y_pred.extend(logits.max(axis=1).indices.cpu().numpy())\n",
        "              y_true.extend(encoded_tag.view(-1).cpu().numpy())\n",
        "\n",
        "  total_precision = 0\n",
        "  total_recall = 0\n",
        "  total_f1 = 0\n",
        "\n",
        "  # Calculate metrics for each label\n",
        "  for label in range(len(labels)):\n",
        "      precision = precision_score(y_true, y_pred, labels=[label], average='weighted', zero_division=0)\n",
        "      recall = recall_score(y_true, y_pred, labels=[label], average='weighted', zero_division=0)\n",
        "      f1 = f1_score(y_true, y_pred, labels=[label], average='weighted', zero_division=0)\n",
        "      print(f\"{labels[label]}: Precision={precision:.4f}, Recall={recall:.4f}, F1={f1:.4f}\")\n",
        "\n",
        "      total_precision += precision\n",
        "      total_recall += recall\n",
        "      total_f1 += f1\n",
        "\n",
        "  avg_precision = total_precision / len(labels)\n",
        "  avg_recall = total_recall / len(labels)\n",
        "  avg_f1 = total_f1 / len(labels)\n",
        "  # Calculate accuracy\n",
        "  accuracy = accuracy_score(y_true, y_pred)\n",
        "  print(f\"Accuracy: {accuracy:.4f}\")\n",
        "\n",
        "  print(f\"Average Precision: {avg_precision:.4f}\")\n",
        "  print(f\"Average Recall: {avg_recall:.4f}\")\n",
        "  print(f\"Average F1-score: {avg_f1:.4f}\")\n",
        "\n",
        "  y_true_binary = [label != 0 for label in y_true]\n",
        "  y_pred_binary = [label != 0 for label in y_pred]\n",
        "\n",
        "  auc_roc = roc_auc_score(y_true_binary, y_pred_binary)\n",
        "  print(f\"AUC-ROC: {auc_roc:.4f}\")"
      ],
      "metadata": {
        "id": "ey_9C9eSmDq9"
      },
      "execution_count": 23,
      "outputs": []
    },
    {
      "cell_type": "code",
      "source": [
        "##non-training data is from index 5456 to 6821\n",
        "idx = 6170\n",
        "model.eval()\n",
        "out = model(torch.tensor(vector_embeddings[idx]).to(device))\n",
        "labels = post_process(out, label_encoding_dict)\n",
        "print(df['Processed'][idx])\n",
        "print(df['Tags'][idx])\n",
        "print(labels)\n",
        "print(calc_accuracy(df['Tags'][idx], labels))"
      ],
      "metadata": {
        "colab": {
          "base_uri": "https://localhost:8080/"
        },
        "id": "lqDAXyu36PrM",
        "outputId": "e36d2580-aa1d-4091-de07-7b9cb271db70"
      },
      "execution_count": null,
      "outputs": [
        {
          "output_type": "stream",
          "name": "stdout",
          "text": [
            "['a', 'drug', 'addict', 'with', 'staphylococcal', 'endocarditis', 'treated', 'with', 'methicillin', 'who', 'developed', 'massive', 'proteinuria', 'and', 'acute', 'nephritic', 'syndrome', 'is', 'described']\n",
            "['O', 'O', 'O', 'O', 'O', 'O', 'O', 'O', 'B-Drug', 'O', 'O', 'B-AE', 'I-AE', 'O', 'O', 'O', 'O', 'O', 'O']\n",
            "['O', 'O', 'O', 'O', 'O', 'O', 'O', 'O', 'O', 'O', 'O', 'O', 'O', 'O', 'O', 'O', 'O', 'O', 'O']\n",
            "84.21052631578947\n"
          ]
        }
      ]
    },
    {
      "cell_type": "code",
      "source": [
        "low_accuracy_sentences = []\n",
        "accuracy_scores = []\n",
        "for idx in range(5456, len(df)):\n",
        "    out = model(torch.tensor(vector_embeddings[idx]).to(device))\n",
        "    labels = post_process(out, label_encoding_dict)\n",
        "    acc = calc_accuracy(df['Tags'][idx], labels)\n",
        "    accuracy_scores.append(acc)\n",
        "    if acc < 50:\n",
        "        low_accuracy_sentences.append((idx, df['Processed'][idx], df['Tags'][idx], labels, acc))\n",
        "\n",
        "print(\"Overall Accuracy\", sum(accuracy_scores)/len(accuracy_scores))\n",
        "print(\"Number of sentences with accuracy less than 50%:\", len(low_accuracy_sentences))\n",
        "\n",
        "for idx, sentence, true_tags, predicted_tags, acc in low_accuracy_sentences:\n",
        "    print(\"Index:\", idx)\n",
        "    print(\"Sentence:\", sentence)\n",
        "    print(\"True Tags:\", true_tags)\n",
        "    print(\"Predicted Tags:\", predicted_tags)\n",
        "    print(\"Accuracy:\", acc)\n",
        "    print()\n"
      ],
      "metadata": {
        "colab": {
          "base_uri": "https://localhost:8080/"
        },
        "id": "3f6ATkD08SE8",
        "outputId": "813fad19-2795-4788-85c1-31bccfc88696"
      },
      "execution_count": null,
      "outputs": [
        {
          "output_type": "stream",
          "name": "stdout",
          "text": [
            "Overall Accuracy 88.01707179278702\n",
            "Number of sentences with accuracy less than 50%: 7\n",
            "Index: 5732\n",
            "Sentence: ['severe', 'abdominal', 'pain', 'in', 'low', 'dosage', 'clofazimine']\n",
            "True Tags: ['O', 'B-AE', 'I-AE', 'O', 'O', 'O', 'B-Drug']\n",
            "Predicted Tags: ['B-AE', 'I-AE', 'I-AE', 'O', 'O', 'B-Drug', 'O']\n",
            "Accuracy: 42.857142857142854\n",
            "\n",
            "Index: 5775\n",
            "Sentence: ['interference', 'with', 'the', 'cortisol', 'axis', 'by', 'the', 'microtubule', 'antagonist', 'cph82']\n",
            "True Tags: ['B-AE', 'I-AE', 'I-AE', 'I-AE', 'I-AE', 'O', 'I-AE', 'O', 'O', 'B-Drug']\n",
            "Predicted Tags: ['B-Drug', 'O', 'O', 'O', 'O', 'O', 'O', 'O', 'O', 'B-Drug']\n",
            "Accuracy: 40.0\n",
            "\n",
            "Index: 5828\n",
            "Sentence: ['cholesterol', 'crystal', 'embolization', 'associated', 'renal', 'failure', 'after', 'therapy', 'with', 'recombinant', 'tissue', 'type', 'plasminogen', 'activator']\n",
            "True Tags: ['B-AE', 'I-AE', 'I-AE', 'O', 'O', 'O', 'O', 'O', 'O', 'O', 'B-Drug', 'I-Drug', 'I-Drug', 'I-Drug']\n",
            "Predicted Tags: ['O', 'O', 'O', 'O', 'B-AE', 'I-AE', 'O', 'O', 'O', 'B-Drug', 'O', 'O', 'O', 'O']\n",
            "Accuracy: 28.57142857142857\n",
            "\n",
            "Index: 5960\n",
            "Sentence: ['does', 'acyclovir', 'increase', 'serum', 'lithium', 'levels']\n",
            "True Tags: ['O', 'B-Drug', 'B-AE', 'I-AE', 'I-AE', 'I-AE']\n",
            "Predicted Tags: ['O', 'B-Drug', 'O', 'O', 'I-Drug', 'B-AE']\n",
            "Accuracy: 33.33333333333333\n",
            "\n",
            "Index: 6323\n",
            "Sentence: ['relapse', 'in', 'the', 'external', 'auditory', 'canal', 'of', 'acute', 'promyelocytic', 'leukemia', 'after', 'treatment', 'with', 'all', 'trans', 'retinoic', 'acid']\n",
            "True Tags: ['B-AE', 'I-AE', 'I-AE', 'I-AE', 'I-AE', 'I-AE', 'I-AE', 'I-AE', 'I-AE', 'I-AE', 'O', 'O', 'O', 'B-Drug', 'I-Drug', 'I-Drug', 'I-Drug']\n",
            "Predicted Tags: ['B-AE', 'O', 'O', 'O', 'O', 'O', 'O', 'O', 'O', 'O', 'O', 'O', 'O', 'B-Drug', 'I-Drug', 'I-Drug', 'I-Drug']\n",
            "Accuracy: 47.05882352941176\n",
            "\n",
            "Index: 6517\n",
            "Sentence: ['clostridium', 'difficile', 'toxin', 'induced', 'colitis', 'after', 'use', 'of', 'clindamycin', 'phosphate', 'vaginal', 'cream']\n",
            "True Tags: ['B-AE', 'I-AE', 'I-AE', 'I-AE', 'I-AE', 'O', 'O', 'O', 'B-Drug', 'I-Drug', 'O', 'O']\n",
            "Predicted Tags: ['O', 'O', 'O', 'O', 'B-AE', 'O', 'O', 'O', 'O', 'B-Drug', 'O', 'O']\n",
            "Accuracy: 41.66666666666667\n",
            "\n",
            "Index: 6738\n",
            "Sentence: ['we', 'suspect', 'that', 'nefazodone', 'inhibits', 'metabolism', 'of', 'tacrolimus']\n",
            "True Tags: ['O', 'O', 'O', 'B-Drug', 'B-AE', 'I-AE', 'I-AE', 'I-AE']\n",
            "Predicted Tags: ['O', 'O', 'O', 'O', 'O', 'O', 'O', 'B-Drug']\n",
            "Accuracy: 37.5\n",
            "\n"
          ]
        }
      ]
    },
    {
      "cell_type": "code",
      "source": [
        "get_metrics(model, testing_data)"
      ],
      "metadata": {
        "colab": {
          "base_uri": "https://localhost:8080/"
        },
        "id": "s7tx-4OzsHBc",
        "outputId": "80c090a0-9afc-40af-9b66-3d0ef6a02565"
      },
      "execution_count": null,
      "outputs": [
        {
          "output_type": "stream",
          "name": "stdout",
          "text": [
            "O: Precision=0.9101, Recall=0.9654, F1=0.9369\n",
            "B-AE: Precision=0.6110, Recall=0.4358, F1=0.5087\n",
            "I-AE: Precision=0.6276, Recall=0.3354, F1=0.4372\n",
            "B-Drug: Precision=0.6903, Recall=0.7354, F1=0.7121\n",
            "I-Drug: Precision=0.7479, Recall=0.2937, F1=0.4218\n",
            "Accuracy: 0.8801\n",
            "Average Precision: 0.7174\n",
            "Average Recall: 0.5531\n",
            "Average F1-score: 0.6033\n",
            "AUC-ROC: 0.7473\n"
          ]
        }
      ]
    },
    {
      "cell_type": "markdown",
      "source": [
        "## GRU Model"
      ],
      "metadata": {
        "id": "duP3yJFuwwOq"
      }
    },
    {
      "cell_type": "code",
      "source": [
        "class GRU(nn.Module):\n",
        "    def __init__(self, input_dim, hidden_dim, output_dim):\n",
        "        super(GRU, self).__init__()\n",
        "        self.gru = nn.GRU(input_dim, hidden_dim, bidirectional=True)\n",
        "        self.fc = nn.Linear(hidden_dim*2, output_dim)  # *2 for bidirectional gru\n",
        "\n",
        "    def forward(self, x):\n",
        "        gru_out, _ = self.gru(x.unsqueeze(1))\n",
        "        out = self.fc(gru_out.view(len(x), -1))  # Get the last output of the sequence\n",
        "        return torch.sigmoid(out).float()"
      ],
      "metadata": {
        "id": "dajzD9umwxdW"
      },
      "execution_count": 19,
      "outputs": []
    },
    {
      "cell_type": "code",
      "source": [
        "model_gru = GRU(input_dim, hidden_dim, output_dim).to(device)\n",
        "\n",
        "loss_function = nn.CrossEntropyLoss()\n",
        "optimizer = optim.Adam(model_gru.parameters(), lr=0.0001)\n",
        "num_epochs = 20\n",
        "\n",
        "train_losses_gru, test_losses_gru = train_model(model_gru, loss_function, optimizer, num_epochs, training_data, testing_data)"
      ],
      "metadata": {
        "colab": {
          "base_uri": "https://localhost:8080/"
        },
        "id": "ZRo-nR8OxSIl",
        "outputId": "d196ae5f-3d8e-4c42-ec47-d89cad564b61"
      },
      "execution_count": 20,
      "outputs": [
        {
          "output_type": "stream",
          "name": "stdout",
          "text": [
            "Epoch [2/20], Train Loss: 0.9202\n",
            "Epoch [2/20], Test Loss: 0.9790\n",
            "\n",
            "\n",
            "Epoch [4/20], Train Loss: 0.9103\n",
            "Epoch [4/20], Test Loss: 0.9566\n",
            "\n",
            "\n",
            "Epoch [6/20], Train Loss: 0.9072\n",
            "Epoch [6/20], Test Loss: 0.9827\n",
            "\n",
            "\n",
            "Epoch [8/20], Train Loss: 0.9063\n",
            "Epoch [8/20], Test Loss: 0.9601\n",
            "\n",
            "\n",
            "Epoch [10/20], Train Loss: 0.9061\n",
            "Epoch [10/20], Test Loss: 0.9375\n",
            "\n",
            "\n",
            "Epoch [12/20], Train Loss: 0.9056\n",
            "Epoch [12/20], Test Loss: 0.9505\n",
            "\n",
            "\n",
            "Epoch [14/20], Train Loss: 0.9053\n",
            "Epoch [14/20], Test Loss: 0.9943\n",
            "\n",
            "\n",
            "Epoch [16/20], Train Loss: 0.9052\n",
            "Epoch [16/20], Test Loss: 0.9801\n",
            "\n",
            "\n",
            "Epoch [18/20], Train Loss: 0.9049\n",
            "Epoch [18/20], Test Loss: 0.9880\n",
            "\n",
            "\n",
            "Epoch [20/20], Train Loss: 0.9050\n",
            "Epoch [20/20], Test Loss: 0.9909\n",
            "\n",
            "\n"
          ]
        }
      ]
    },
    {
      "cell_type": "code",
      "source": [
        "plt.plot(range(1, num_epochs+ 1), [(x/len(training_data)) for x in train_losses_gru], label='Train Loss')\n",
        "plt.plot(range(1, num_epochs + 1), [(x/len(testing_data)) for x in test_losses_gru], label='Test Loss')\n",
        "plt.title('Loss vs Epochs for SpaCy Embeddings - GRU')\n",
        "plt.xlabel('Epochs')\n",
        "plt.ylabel('CrossEntropyLoss')\n",
        "plt.legend()\n",
        "plt.show()"
      ],
      "metadata": {
        "colab": {
          "base_uri": "https://localhost:8080/",
          "height": 472
        },
        "id": "wSARGazLxy9E",
        "outputId": "41e9586e-0e67-4b30-cd44-fe5bdf6858ea"
      },
      "execution_count": 21,
      "outputs": [
        {
          "output_type": "display_data",
          "data": {
            "text/plain": [
              "<Figure size 640x480 with 1 Axes>"
            ],
            "image/png": "[encoded data removed]"
          },
          "metadata": {}
        }
      ]
    },
    {
      "cell_type": "code",
      "source": [
        "get_metrics(model_gru, testing_data)"
      ],
      "metadata": {
        "colab": {
          "base_uri": "https://localhost:8080/"
        },
        "id": "RcQgt8QC2QcE",
        "outputId": "086aab7d-c327-4399-b4be-6c98118e5b28"
      },
      "execution_count": 24,
      "outputs": [
        {
          "output_type": "stream",
          "name": "stdout",
          "text": [
            "O: Precision=0.9076, Recall=0.9695, F1=0.9375\n",
            "B-AE: Precision=0.6469, Recall=0.4366, F1=0.5213\n",
            "I-AE: Precision=0.6332, Recall=0.3364, F1=0.4394\n",
            "B-Drug: Precision=0.7357, Recall=0.6953, F1=0.7149\n",
            "I-Drug: Precision=0.7143, Recall=0.3135, F1=0.4358\n",
            "Accuracy: 0.8823\n",
            "Average Precision: 0.7275\n",
            "Average Recall: 0.5503\n",
            "Average F1-score: 0.6098\n",
            "AUC-ROC: 0.7413\n"
          ]
        }
      ]
    },
    {
      "cell_type": "code",
      "source": [
        "low_accuracy_sentences_gru = []\n",
        "accuracy_scores_gru = []\n",
        "for idx in range(5456, len(df)):\n",
        "    out = model_gru(torch.tensor(vector_embeddings[idx]).to(device))\n",
        "    labels = post_process(out, label_encoding_dict)\n",
        "    acc = calc_accuracy(df['Tags'][idx], labels)\n",
        "    accuracy_scores_gru.append(acc)\n",
        "    if acc < 50:\n",
        "        low_accuracy_sentences_gru.append((idx, df['Processed'][idx], df['Tags'][idx], labels, acc))\n",
        "\n",
        "print(\"Overall Accuracy\", sum(accuracy_scores_gru)/len(accuracy_scores_gru))\n",
        "print(\"Number of sentences with accuracy less than 50%:\", len(low_accuracy_sentences_gru))\n",
        "\n",
        "for idx, sentence, true_tags, predicted_tags, acc in low_accuracy_sentences_gru:\n",
        "    print(\"Index:\", idx)\n",
        "    print(\"Sentence:\", sentence)\n",
        "    print(\"True Tags:\", true_tags)\n",
        "    print(\"Predicted Tags:\", predicted_tags)\n",
        "    print(\"Accuracy:\", acc)\n",
        "    print()"
      ],
      "metadata": {
        "colab": {
          "base_uri": "https://localhost:8080/"
        },
        "id": "YdR4dQmp2dAM",
        "outputId": "0552fb47-d864-462b-d586-1fe2b5b8762e"
      },
      "execution_count": 27,
      "outputs": [
        {
          "output_type": "stream",
          "name": "stdout",
          "text": [
            "Overall Accuracy 88.10923062816204\n",
            "Number of sentences with accuracy less than 50%: 8\n",
            "Index: 5614\n",
            "Sentence: ['celiprolol', 'pneumonitis']\n",
            "True Tags: ['B-Drug', 'B-AE']\n",
            "Predicted Tags: ['B-AE', 'I-AE']\n",
            "Accuracy: 0.0\n",
            "\n",
            "Index: 5828\n",
            "Sentence: ['cholesterol', 'crystal', 'embolization', 'associated', 'renal', 'failure', 'after', 'therapy', 'with', 'recombinant', 'tissue', 'type', 'plasminogen', 'activator']\n",
            "True Tags: ['B-AE', 'I-AE', 'I-AE', 'O', 'O', 'O', 'O', 'O', 'O', 'O', 'B-Drug', 'I-Drug', 'I-Drug', 'I-Drug']\n",
            "Predicted Tags: ['O', 'O', 'O', 'O', 'B-AE', 'I-AE', 'O', 'O', 'O', 'O', 'O', 'O', 'O', 'O']\n",
            "Accuracy: 35.714285714285715\n",
            "\n",
            "Index: 5960\n",
            "Sentence: ['does', 'acyclovir', 'increase', 'serum', 'lithium', 'levels']\n",
            "True Tags: ['O', 'B-Drug', 'B-AE', 'I-AE', 'I-AE', 'I-AE']\n",
            "Predicted Tags: ['O', 'B-Drug', 'O', 'O', 'O', 'O']\n",
            "Accuracy: 33.33333333333333\n",
            "\n",
            "Index: 5967\n",
            "Sentence: ['when', 'measured', 'the', 'serum', 'lithium', 'level', 'had', 'increased', '4', 'fold', 'during', 'acyclovir', 'therapy']\n",
            "True Tags: ['O', 'O', 'O', 'B-AE', 'I-AE', 'I-AE', 'I-AE', 'I-AE', 'O', 'O', 'O', 'B-Drug', 'O']\n",
            "Predicted Tags: ['O', 'O', 'O', 'O', 'B-Drug', 'O', 'O', 'O', 'I-AE', 'I-AE', 'O', 'B-Drug', 'O']\n",
            "Accuracy: 46.15384615384615\n",
            "\n",
            "Index: 5968\n",
            "Sentence: ['when', 'measured', 'the', 'serum', 'lithium', 'level', 'had', 'increased', '4', 'fold', 'during', 'acyclovir', 'therapy']\n",
            "True Tags: ['O', 'O', 'O', 'B-AE', 'B-Drug', 'I-AE', 'I-AE', 'I-AE', 'O', 'O', 'O', 'O', 'O']\n",
            "Predicted Tags: ['O', 'O', 'O', 'O', 'B-Drug', 'O', 'O', 'O', 'I-AE', 'I-AE', 'O', 'B-Drug', 'O']\n",
            "Accuracy: 46.15384615384615\n",
            "\n",
            "Index: 6323\n",
            "Sentence: ['relapse', 'in', 'the', 'external', 'auditory', 'canal', 'of', 'acute', 'promyelocytic', 'leukemia', 'after', 'treatment', 'with', 'all', 'trans', 'retinoic', 'acid']\n",
            "True Tags: ['B-AE', 'I-AE', 'I-AE', 'I-AE', 'I-AE', 'I-AE', 'I-AE', 'I-AE', 'I-AE', 'I-AE', 'O', 'O', 'O', 'B-Drug', 'I-Drug', 'I-Drug', 'I-Drug']\n",
            "Predicted Tags: ['B-AE', 'O', 'O', 'O', 'O', 'O', 'O', 'O', 'O', 'O', 'O', 'O', 'O', 'B-Drug', 'I-Drug', 'I-Drug', 'I-Drug']\n",
            "Accuracy: 47.05882352941176\n",
            "\n",
            "Index: 6517\n",
            "Sentence: ['clostridium', 'difficile', 'toxin', 'induced', 'colitis', 'after', 'use', 'of', 'clindamycin', 'phosphate', 'vaginal', 'cream']\n",
            "True Tags: ['B-AE', 'I-AE', 'I-AE', 'I-AE', 'I-AE', 'O', 'O', 'O', 'B-Drug', 'I-Drug', 'O', 'O']\n",
            "Predicted Tags: ['O', 'O', 'O', 'O', 'B-AE', 'O', 'O', 'O', 'O', 'B-Drug', 'O', 'O']\n",
            "Accuracy: 41.66666666666667\n",
            "\n",
            "Index: 6738\n",
            "Sentence: ['we', 'suspect', 'that', 'nefazodone', 'inhibits', 'metabolism', 'of', 'tacrolimus']\n",
            "True Tags: ['O', 'O', 'O', 'B-Drug', 'B-AE', 'I-AE', 'I-AE', 'I-AE']\n",
            "Predicted Tags: ['O', 'O', 'O', 'O', 'O', 'O', 'O', 'B-Drug']\n",
            "Accuracy: 37.5\n",
            "\n"
          ]
        }
      ]
    },
    {
      "cell_type": "markdown",
      "source": [
        "## Glove Embeddings"
      ],
      "metadata": {
        "id": "M8mjZs3b1BLv"
      }
    },
    {
      "cell_type": "code",
      "source": [
        "# Load pre-trained GloVe embeddings\n",
        "def glove_embeddings(file_path):\n",
        "    embeddings = {}\n",
        "    with open(file_path, 'rt', encoding='utf-8') as file:\n",
        "        for line in file:\n",
        "            values = line.strip().split()\n",
        "            word = values[0]\n",
        "            vector = np.array(values[1:], dtype=float)\n",
        "            embeddings[word] = vector\n",
        "    return embeddings\n",
        "\n",
        "# Function to get embeddings for each word in a sentence\n",
        "def get_embeddings(sentence, word_vectors):\n",
        "    embeddings = [word_vectors[word] if word in word_vectors else np.zeros(50) for word in sentence]\n",
        "    return embeddings"
      ],
      "metadata": {
        "id": "HCbO0z_pMukm"
      },
      "execution_count": null,
      "outputs": []
    },
    {
      "cell_type": "code",
      "source": [
        "# Replace 'glove.6B.50d.txt' with the path to your GloVe file\n",
        "file_path = '/content/glove.6B.50d.txt'\n",
        "embeddings_glove = glove_embeddings(file_path)\n",
        "\n",
        "df_glove_embeddings = []\n",
        "for i in range(len(df)):\n",
        "  word_list = df['Processed'][i]\n",
        "  sentence_embeddings = get_embeddings(word_list, embeddings_glove)\n",
        "  df_glove_embeddings.append(sentence_embeddings)"
      ],
      "metadata": {
        "id": "s5jTq3rlU73w"
      },
      "execution_count": null,
      "outputs": []
    },
    {
      "cell_type": "code",
      "source": [
        "training_data_glove = CustomDataset(df_glove_embeddings[:5465], encoded_tags[:5465])\n",
        "testing_data_glove = CustomDataset(df_glove_embeddings[5465:], encoded_tags[5465:])"
      ],
      "metadata": {
        "id": "pR5WOis5VWRf"
      },
      "execution_count": null,
      "outputs": []
    },
    {
      "cell_type": "markdown",
      "source": [
        "### Training the Model"
      ],
      "metadata": {
        "id": "mnBhL72N2JoH"
      }
    },
    {
      "cell_type": "code",
      "source": [
        "# Initialize model, loss function, and optimizer\n",
        "input_dim_glove = 50\n",
        "hidden_dim = 256   # Number of units in the LSTM layer\n",
        "output_dim = 5  # Output dimensionality\n",
        "\n",
        "loss_function = nn.CrossEntropyLoss()\n",
        "num_epochs = 20\n",
        "\n",
        "model_glove = BiLSTM(input_dim_glove, hidden_dim, output_dim).to(device)\n",
        "optimizer_glove = optim.Adam(model_glove.parameters(), lr=0.0001)\n",
        "\n",
        "train_losses_glove, test_losses_glove = train_model(model_glove, loss_function, optimizer_glove, num_epochs, training_data_glove, testing_data_glove)"
      ],
      "metadata": {
        "colab": {
          "base_uri": "https://localhost:8080/"
        },
        "id": "Imhh3-fncCO5",
        "outputId": "a48b5441-a4f6-4bc5-b988-49e12fb99214"
      },
      "execution_count": null,
      "outputs": [
        {
          "output_type": "stream",
          "name": "stdout",
          "text": [
            "Epoch [2/20], Train Loss: 1.0818\n",
            "Epoch [2/20], Test Loss: 0.9304\n",
            "\n",
            "\n",
            "Epoch [4/20], Train Loss: 0.9941\n",
            "Epoch [4/20], Test Loss: 0.9114\n",
            "\n",
            "\n",
            "Epoch [6/20], Train Loss: 0.9687\n",
            "Epoch [6/20], Test Loss: 0.9084\n",
            "\n",
            "\n",
            "Epoch [8/20], Train Loss: 0.9515\n",
            "Epoch [8/20], Test Loss: 0.9069\n",
            "\n",
            "\n",
            "Epoch [10/20], Train Loss: 0.9286\n",
            "Epoch [10/20], Test Loss: 0.9057\n",
            "\n",
            "\n",
            "Epoch [12/20], Train Loss: 0.9158\n",
            "Epoch [12/20], Test Loss: 0.9053\n",
            "\n",
            "\n",
            "Epoch [14/20], Train Loss: 0.9204\n",
            "Epoch [14/20], Test Loss: 0.9050\n",
            "\n",
            "\n",
            "Epoch [16/20], Train Loss: 0.9093\n",
            "Epoch [16/20], Test Loss: 0.9050\n",
            "\n",
            "\n",
            "Epoch [18/20], Train Loss: 0.9078\n",
            "Epoch [18/20], Test Loss: 0.9049\n",
            "\n",
            "\n",
            "Epoch [20/20], Train Loss: 0.9059\n",
            "Epoch [20/20], Test Loss: 0.9049\n",
            "\n",
            "\n"
          ]
        }
      ]
    },
    {
      "cell_type": "markdown",
      "source": [
        "### Loss and Metrics"
      ],
      "metadata": {
        "id": "G59-FB-12ONt"
      }
    },
    {
      "cell_type": "code",
      "source": [
        "import matplotlib.pyplot as plt\n",
        "num_epochs=20\n",
        "plt.plot(range(1, num_epochs+ 1), [(x/len(training_data_glove)) for x in train_losses_glove], label='Train Loss')\n",
        "plt.plot(range(1, num_epochs + 1), [(x/len(testing_data_glove)) for x in test_losses_glove], label='Test Loss')\n",
        "\n",
        "plt.title('Loss vs Epochs for Glove Embeddings')\n",
        "plt.xlabel('Epochs')\n",
        "plt.ylabel('CrossEntropyLoss')\n",
        "plt.legend()\n",
        "plt.show()"
      ],
      "metadata": {
        "id": "uRnpuwR2d1kq",
        "colab": {
          "base_uri": "https://localhost:8080/",
          "height": 472
        },
        "outputId": "7aaf123d-77b3-4c1c-bcbc-eb0f871edafb"
      },
      "execution_count": null,
      "outputs": [
        {
          "output_type": "display_data",
          "data": {
            "text/plain": [
              "<Figure size 640x480 with 1 Axes>"
            ],
            "image/png": "[encoded data removed]"
          },
          "metadata": {}
        }
      ]
    },
    {
      "cell_type": "code",
      "source": [
        "low_accuracy_sentences_glove = []\n",
        "accuracy_scores_glove = []\n",
        "for idx in range(5456, len(df)):\n",
        "    out = model_glove(torch.tensor(df_glove_embeddings[idx]).float().to(device))\n",
        "    labels = post_process(out, label_encoding_dict)\n",
        "    ground_truth = df.iloc[idx]['Tags']\n",
        "    acc = calc_accuracy(ground_truth, labels)\n",
        "    accuracy_scores_glove.append(acc)\n",
        "    if acc < 50:\n",
        "        low_accuracy_sentences_glove.append((idx, df['Processed'][idx], df['Tags'][idx], labels, acc))\n",
        "\n",
        "print(\"Overall Accuracy\", sum(accuracy_scores_glove)/len(accuracy_scores_glove))\n",
        "print(\"Number of sentences with accuracy less than 50%:\", len(low_accuracy_sentences_glove))\n",
        "\n",
        "for idx, sentence, true_tags, predicted_tags, acc in low_accuracy_sentences_glove:\n",
        "    print(\"Index:\", idx)\n",
        "    print(\"Sentence:\", sentence)\n",
        "    print(\"True Tags:\", true_tags)\n",
        "    print(\"Predicted Tags:\", predicted_tags)\n",
        "    print(\"Accuracy:\", acc)\n",
        "    print()"
      ],
      "metadata": {
        "id": "5vnGmDOtcOLN",
        "colab": {
          "base_uri": "https://localhost:8080/"
        },
        "outputId": "3d44c977-d5c2-4603-8852-066dc035d66d"
      },
      "execution_count": null,
      "outputs": [
        {
          "output_type": "stream",
          "name": "stdout",
          "text": [
            "Overall Accuracy 87.02616239894148\n",
            "Number of sentences with accuracy less than 50%: 5\n",
            "Index: 5742\n",
            "Sentence: ['sudden', 'death', 'in', 'an', 'infant', 'from', 'methemoglobinemia', 'after', 'administration', 'of', 'sweet', 'spirits', 'of', 'nitre']\n",
            "True Tags: ['B-AE', 'I-AE', 'O', 'O', 'O', 'O', 'O', 'O', 'O', 'B-Drug', 'I-Drug', 'I-Drug', 'I-Drug', 'I-Drug']\n",
            "Predicted Tags: ['O', 'O', 'O', 'O', 'O', 'O', 'B-Drug', 'O', 'O', 'O', 'O', 'O', 'O', 'O']\n",
            "Accuracy: 42.857142857142854\n",
            "\n",
            "Index: 6000\n",
            "Sentence: ['systemic', 'corticosteroids', 'in', 'the', 'phenytoin', 'hypersensitivity', 'syndrome']\n",
            "True Tags: ['O', 'O', 'O', 'O', 'B-Drug', 'I-AE', 'I-AE']\n",
            "Predicted Tags: ['B-AE', 'I-AE', 'O', 'O', 'B-Drug', 'O', 'O']\n",
            "Accuracy: 42.857142857142854\n",
            "\n",
            "Index: 6323\n",
            "Sentence: ['relapse', 'in', 'the', 'external', 'auditory', 'canal', 'of', 'acute', 'promyelocytic', 'leukemia', 'after', 'treatment', 'with', 'all', 'trans', 'retinoic', 'acid']\n",
            "True Tags: ['B-AE', 'I-AE', 'I-AE', 'I-AE', 'I-AE', 'I-AE', 'I-AE', 'I-AE', 'I-AE', 'I-AE', 'O', 'O', 'O', 'B-Drug', 'I-Drug', 'I-Drug', 'I-Drug']\n",
            "Predicted Tags: ['O', 'O', 'O', 'O', 'O', 'O', 'O', 'O', 'O', 'I-AE', 'O', 'O', 'O', 'O', 'O', 'B-Drug', 'O']\n",
            "Accuracy: 23.52941176470588\n",
            "\n",
            "Index: 6631\n",
            "Sentence: ['a', 'drug', 'interaction', 'between', 'zafirlukast', 'and', 'theophylline']\n",
            "True Tags: ['O', 'B-AE', 'I-AE', 'O', 'B-Drug', 'O', 'O']\n",
            "Predicted Tags: ['O', 'O', 'O', 'O', 'O', 'O', 'B-Drug']\n",
            "Accuracy: 42.857142857142854\n",
            "\n",
            "Index: 6738\n",
            "Sentence: ['we', 'suspect', 'that', 'nefazodone', 'inhibits', 'metabolism', 'of', 'tacrolimus']\n",
            "True Tags: ['O', 'O', 'O', 'B-Drug', 'B-AE', 'I-AE', 'I-AE', 'I-AE']\n",
            "Predicted Tags: ['O', 'O', 'O', 'O', 'O', 'O', 'O', 'B-Drug']\n",
            "Accuracy: 37.5\n",
            "\n"
          ]
        }
      ]
    },
    {
      "cell_type": "code",
      "source": [
        "get_metrics(model_glove, testing_data_glove)"
      ],
      "metadata": {
        "colab": {
          "base_uri": "https://localhost:8080/"
        },
        "id": "CLByHbUtphiy",
        "outputId": "5bcd1d80-2c10-4896-9cd7-9165a89ba4d6"
      },
      "execution_count": null,
      "outputs": [
        {
          "output_type": "stream",
          "name": "stdout",
          "text": [
            "O: Precision=0.9028, Recall=0.9636, F1=0.9322\n",
            "B-AE: Precision=0.5971, Recall=0.4181, F1=0.4919\n",
            "I-AE: Precision=0.5893, Recall=0.3318, F1=0.4245\n",
            "B-Drug: Precision=0.6710, Recall=0.7287, F1=0.6986\n",
            "I-Drug: Precision=0.0000, Recall=0.0000, F1=0.0000\n",
            "Accuracy: 0.8716\n",
            "Average Precision: 0.5520\n",
            "Average Recall: 0.4885\n",
            "Average F1-score: 0.5095\n",
            "AUC-ROC: 0.7258\n"
          ]
        }
      ]
    }
  ]
}